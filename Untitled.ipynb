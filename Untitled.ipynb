{
 "cells": [
  {
   "cell_type": "code",
   "execution_count": 2,
   "id": "0a546a91-b40f-497f-8c32-330dbccdac11",
   "metadata": {},
   "outputs": [],
   "source": [
    "import pandas as pd\n",
    "import sqlite3"
   ]
  },
  {
   "cell_type": "code",
   "execution_count": 3,
   "id": "f582d401-d45b-4bc7-b90b-19181e684f1c",
   "metadata": {},
   "outputs": [],
   "source": [
    "conn = sqlite3.connect(\"data/database.db\")\n"
   ]
  },
  {
   "cell_type": "code",
   "execution_count": 8,
   "id": "02a6eee8-b317-4020-b7ed-5c549a501575",
   "metadata": {},
   "outputs": [],
   "source": [
    "df = pd.read_sql(\"SELECT * FROM film\", conn)"
   ]
  },
  {
   "cell_type": "code",
   "execution_count": 14,
   "id": "7d7b0bae-367b-4018-bac3-07da8272df1d",
   "metadata": {},
   "outputs": [
    {
     "data": {
      "text/plain": [
       "'rama of a Cat And a Boat who must Defeat a Boat in The Gulf of Mexico'"
      ]
     },
     "execution_count": 14,
     "metadata": {},
     "output_type": "execute_result"
    }
   ],
   "source": [
    "df[[\"description\", \"film_id\"]]\n",
    "df[\"description\"].iloc[0]"
   ]
  }
 ],
 "metadata": {
  "kernelspec": {
   "display_name": "Python 3 (ipykernel)",
   "language": "python",
   "name": "python3"
  },
  "language_info": {
   "codemirror_mode": {
    "name": "ipython",
    "version": 3
   },
   "file_extension": ".py",
   "mimetype": "text/x-python",
   "name": "python",
   "nbconvert_exporter": "python",
   "pygments_lexer": "ipython3",
   "version": "3.12.9"
  }
 },
 "nbformat": 4,
 "nbformat_minor": 5
}
